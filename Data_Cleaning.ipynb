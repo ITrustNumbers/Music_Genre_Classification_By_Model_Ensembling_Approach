{
 "cells": [
  {
   "cell_type": "markdown",
   "metadata": {
    "id": "ysAYHCM9sxqM"
   },
   "source": [
    "# Data Cleaning\n",
    "\n",
    "## About the Data:\n",
    "\n",
    "The dataset is named GTZAN and it consist of 1000 audio files, 100 files for 10 genres each\n",
    "\n",
    "### Genres in the dataset\n",
    "1. Blues\n",
    "2. Classical\n",
    "3. Country\n",
    "4. Pop\n",
    "5. Hip-Hop\n",
    "6. Rock\n",
    "7. Jazz\n",
    "8. reggae\n",
    "9. Disco\n",
    "10. Metal\n"
   ]
  },
  {
   "cell_type": "markdown",
   "metadata": {
    "id": "oMn7juKJtrCv"
   },
   "source": [
    "## Data Directory Structure"
   ]
  },
  {
   "cell_type": "code",
   "execution_count": 1,
   "metadata": {
    "colab": {
     "base_uri": "https://localhost:8080/"
    },
    "id": "66XTe78BtuxC",
    "outputId": "cd572145-97e7-4fc0-9dc8-43f692e12ddf"
   },
   "outputs": [
    {
     "name": "stdout",
     "output_type": "stream",
     "text": [
      "GTZAN_Dataset\n",
      "   -classical\n",
      "   -disco\n",
      "   -jazz\n",
      "   -country\n",
      "   -blues\n",
      "   -pop\n",
      "   -reggae\n",
      "   -hiphop\n",
      "   -rock\n",
      "   -metal\n"
     ]
    }
   ],
   "source": [
    "import os \n",
    "\n",
    "path = os.path.join('Training_Audio_Data', 'GTZAN_Dataset')\n",
    "for dirname, dirs, _ in os.walk(path):\n",
    "  print(dirname)\n",
    "  for dir in dirs:\n",
    "    print(' '*3+ '-' + dir)\n",
    "  break"
   ]
  },
  {
   "cell_type": "markdown",
   "metadata": {
    "id": "b04TrWSRP_v8"
   },
   "source": [
    "## Initial File Check\n",
    "\n",
    "Checking the integrity of the audio files by dump loading them using librosa"
   ]
  },
  {
   "cell_type": "code",
   "execution_count": 2,
   "metadata": {
    "colab": {
     "base_uri": "https://localhost:8080/"
    },
    "id": "PUYgq730QtDG",
    "outputId": "61a87f91-4c4a-49d9-fa4a-e92f3b1bcbe1"
   },
   "outputs": [
    {
     "name": "stdout",
     "output_type": "stream",
     "text": [
      "Loaded a Total of 1000 audio file(s) correctly\n",
      "Failed Loading a Total of 0 audio file(s) correctly\n"
     ]
    }
   ],
   "source": [
    "#Loading every audio_file\n",
    "import librosa \n",
    "import warnings\n",
    "warnings.filterwarnings(\"ignore\")\n",
    "\n",
    "Corrupted_files = []\n",
    "count_ok = 0\n",
    "count_corrupt = 0\n",
    "for dirname, dirs, files in os.walk(path):\n",
    "  for audio_fn in files:\n",
    "    audio_path = os.path.join(dirname, audio_fn)\n",
    "    try:\n",
    "      audio_lb, sr = librosa.load(audio_path)\n",
    "      count_ok += 1\n",
    "    except:\n",
    "      Corrupted_files.append(audio_fn)\n",
    "      count_corrupt += 1\n",
    "\n",
    "print(f'Loaded a Total of {count_ok} audio file(s) correctly')\n",
    "print(f'Failed Loading a Total of {count_corrupt} audio file(s) correctly')\n",
    "if count_corrupt:\n",
    "  print('The Corrupted File(s) are:')\n",
    "  for i ,fl in enumerate(Corrupted_files):\n",
    "    print(f'{i+1}. {fl}')\n"
   ]
  },
  {
   "cell_type": "markdown",
   "metadata": {
    "id": "8s60vLiSdjCP"
   },
   "source": [
    "#### Remarks\n",
    "\n",
    "All files are fine and can be loaded using librosa"
   ]
  },
  {
   "cell_type": "markdown",
   "metadata": {
    "id": "eFmLAaPquY1b"
   },
   "source": [
    "## Audio Quality Check(Distorsion)\n",
    "Checking all the original files for distorsion in the audio. \n",
    "The measure of Flatness will be used to compare distorsion"
   ]
  },
  {
   "cell_type": "code",
   "execution_count": 3,
   "metadata": {
    "id": "G4E-eJ-jJErz"
   },
   "outputs": [],
   "source": [
    "import librosa #Audio Analysis Library\n",
    "import numpy as np\n",
    "import re\n",
    "\n",
    "#Dictionary to hold name of the genre and their corresponding measure of flatness\n",
    "flatness = {'Genre': [], 'Flatness' : []}\n",
    "\n",
    "#Going through each file\n",
    "for dirname, dirs, files in os.walk(path):\n",
    "  for audio_fn in files:\n",
    "    audio_path = os.path.join(dirname, audio_fn)\n",
    "    audio_lb, sr = librosa.load(audio_path)\n",
    "    \n",
    "    #Taking name of the file\n",
    "    flatness['Genre'].append(re.search(r'([a-z]*)\\.', audio_fn).group(1))\n",
    "    #Calculating and storing Flatness\n",
    "    flatness['Flatness'].append(np.mean(librosa.feature.spectral_flatness(audio_lb)))"
   ]
  },
  {
   "cell_type": "markdown",
   "metadata": {
    "id": "oUl5CNAFxQyl"
   },
   "source": [
    "## Visualizing Flatness Data"
   ]
  },
  {
   "cell_type": "code",
   "execution_count": 4,
   "metadata": {
    "colab": {
     "base_uri": "https://localhost:8080/",
     "height": 474
    },
    "id": "3K2azSsmLZK1",
    "outputId": "1d292ce0-7dd3-434c-a360-c34637f7bb0f"
   },
   "outputs": [
    {
     "data": {
      "image/png": "[encoded data removed]",
      "text/plain": [
       "<Figure size 792x504 with 1 Axes>"
      ]
     },
     "metadata": {
      "needs_background": "light"
     },
     "output_type": "display_data"
    }
   ],
   "source": [
    "from matplotlib.transforms import Bbox\n",
    "import pandas as pd\n",
    "import seaborn as sns\n",
    "import matplotlib.pyplot as plt\n",
    "\n",
    "#Flatness DataFrame\n",
    "data = pd.DataFrame(flatness).sort_values(by = 'Flatness', ascending=False).reset_index(drop=True)\n",
    "\n",
    "#Plot\n",
    "plt.figure(figsize=(11,7))\n",
    "#Plot Properties\n",
    "sns.set(rc={\"axes.grid\":True,'xtick.labelsize':12,'ytick.labelsize':12, 'axes.labelsize':14, 'axes.labelpad':6,\n",
    "            'legend.frameon':False, 'legend.fontsize':14, 'legend.title_fontsize': 14})\n",
    "#Histplot for top 30 songs with the most distorsion\n",
    "sns.histplot(data = data.head(30), x = 'Flatness', hue = 'Genre', multiple = 'stack', ax = plt.gca())\n",
    "plt.title('Top 30 most distorted songs in the data',fontsize=18)\n",
    "\n",
    "#Saving\n",
    "path = os.path.join('Visualization', 'Distorsion.png')\n",
    "plt.savefig(path, bbox_inches='tight',dpi=200)"
   ]
  },
  {
   "cell_type": "markdown",
   "metadata": {
    "id": "42H9gUfEmu3m"
   },
   "source": [
    "#### **Remarks**  \n",
    "\n",
    "Mostly all songs have less than 0.15 Flatness, which is ok for all analyses purposes but some songs in the genre reggae have a flatness of more than 0.4. We have to identify that songs and remove it from the data set before any meaningfull analysis "
   ]
  },
  {
   "cell_type": "markdown",
   "metadata": {
    "id": "C1BIXT_eqpri"
   },
   "source": [
    "### Isolating Reggae Songs"
   ]
  },
  {
   "cell_type": "code",
   "execution_count": 5,
   "metadata": {
    "id": "Y7kCPAjkqsGx"
   },
   "outputs": [],
   "source": [
    "flatness_reggae = {'File_Name': [], 'Flatness' : []}\n",
    "\n",
    "#Going through each file\n",
    "path = os.path.join('Training_Audio_Data', 'GTZAN_Dataset')\n",
    "for dirname, dirs, files in os.walk(path):\n",
    "  #Filtering for reggae\n",
    "  if os.path.split(dirname)[-1] != 'reggae':\n",
    "    continue\n",
    "  for audio_fn in files:\n",
    "    audio_path = os.path.join(dirname, audio_fn)\n",
    "    audio_lb, sr = librosa.load(audio_path)\n",
    "    \n",
    "    #Taking name of the file\n",
    "    flatness_reggae['File_Name'].append(audio_fn)\n",
    "    #Calculating and storing Flatness\n",
    "    flatness_reggae['Flatness'].append(np.mean(librosa.feature.spectral_flatness(audio_lb)))"
   ]
  },
  {
   "cell_type": "code",
   "execution_count": 6,
   "metadata": {
    "colab": {
     "base_uri": "https://localhost:8080/",
     "height": 363
    },
    "id": "0pD5H0EerBWc",
    "outputId": "d5deb384-8e86-4fcb-f5fb-d72c5e9e23b7"
   },
   "outputs": [
    {
     "data": {
      "text/html": [
       "\n",
       "  <div id=\"df-7e1c99e3-ca37-43d4-b4d6-bc3b7d8960cf\">\n",
       "    <div class=\"colab-df-container\">\n",
       "      <div>\n",
       "<style scoped>\n",
       "    .dataframe tbody tr th:only-of-type {\n",
       "        vertical-align: middle;\n",
       "    }\n",
       "\n",
       "    .dataframe tbody tr th {\n",
       "        vertical-align: top;\n",
       "    }\n",
       "\n",
       "    .dataframe thead th {\n",
       "        text-align: right;\n",
       "    }\n",
       "</style>\n",
       "<table border=\"1\" class=\"dataframe\">\n",
       "  <thead>\n",
       "    <tr style=\"text-align: right;\">\n",
       "      <th></th>\n",
       "      <th>File_Name</th>\n",
       "      <th>Flatness</th>\n",
       "    </tr>\n",
       "  </thead>\n",
       "  <tbody>\n",
       "    <tr>\n",
       "      <th>0</th>\n",
       "      <td>reggae.00086.wav</td>\n",
       "      <td>0.417805</td>\n",
       "    </tr>\n",
       "    <tr>\n",
       "      <th>1</th>\n",
       "      <td>reggae.00051.wav</td>\n",
       "      <td>0.131716</td>\n",
       "    </tr>\n",
       "    <tr>\n",
       "      <th>2</th>\n",
       "      <td>reggae.00045.wav</td>\n",
       "      <td>0.124056</td>\n",
       "    </tr>\n",
       "    <tr>\n",
       "      <th>3</th>\n",
       "      <td>reggae.00088.wav</td>\n",
       "      <td>0.103404</td>\n",
       "    </tr>\n",
       "    <tr>\n",
       "      <th>4</th>\n",
       "      <td>reggae.00050.wav</td>\n",
       "      <td>0.090270</td>\n",
       "    </tr>\n",
       "    <tr>\n",
       "      <th>5</th>\n",
       "      <td>reggae.00072.wav</td>\n",
       "      <td>0.065526</td>\n",
       "    </tr>\n",
       "    <tr>\n",
       "      <th>6</th>\n",
       "      <td>reggae.00052.wav</td>\n",
       "      <td>0.060917</td>\n",
       "    </tr>\n",
       "    <tr>\n",
       "      <th>7</th>\n",
       "      <td>reggae.00087.wav</td>\n",
       "      <td>0.059775</td>\n",
       "    </tr>\n",
       "    <tr>\n",
       "      <th>8</th>\n",
       "      <td>reggae.00079.wav</td>\n",
       "      <td>0.056940</td>\n",
       "    </tr>\n",
       "    <tr>\n",
       "      <th>9</th>\n",
       "      <td>reggae.00071.wav</td>\n",
       "      <td>0.050336</td>\n",
       "    </tr>\n",
       "  </tbody>\n",
       "</table>\n",
       "</div>\n",
       "      <button class=\"colab-df-convert\" onclick=\"convertToInteractive('df-7e1c99e3-ca37-43d4-b4d6-bc3b7d8960cf')\"\n",
       "              title=\"Convert this dataframe to an interactive table.\"\n",
       "              style=\"display:none;\">\n",
       "        \n",
       "  <svg xmlns=\"http://www.w3.org/2000/svg\" height=\"24px\"viewBox=\"0 0 24 24\"\n",
       "       width=\"24px\">\n",
       "    <path d=\"M0 0h24v24H0V0z\" fill=\"none\"/>\n",
       "    <path d=\"M18.56 5.44l.94 2.06.94-2.06 2.06-.94-2.06-.94-.94-2.06-.94 2.06-2.06.94zm-11 1L8.5 8.5l.94-2.06 2.06-.94-2.06-.94L8.5 2.5l-.94 2.06-2.06.94zm10 10l.94 2.06.94-2.06 2.06-.94-2.06-.94-.94-2.06-.94 2.06-2.06.94z\"/><path d=\"M17.41 7.96l-1.37-1.37c-.4-.4-.92-.59-1.43-.59-.52 0-1.04.2-1.43.59L10.3 9.45l-7.72 7.72c-.78.78-.78 2.05 0 2.83L4 21.41c.39.39.9.59 1.41.59.51 0 1.02-.2 1.41-.59l7.78-7.78 2.81-2.81c.8-.78.8-2.07 0-2.86zM5.41 20L4 18.59l7.72-7.72 1.47 1.35L5.41 20z\"/>\n",
       "  </svg>\n",
       "      </button>\n",
       "      \n",
       "  <style>\n",
       "    .colab-df-container {\n",
       "      display:flex;\n",
       "      flex-wrap:wrap;\n",
       "      gap: 12px;\n",
       "    }\n",
       "\n",
       "    .colab-df-convert {\n",
       "      background-color: #E8F0FE;\n",
       "      border: none;\n",
       "      border-radius: 50%;\n",
       "      cursor: pointer;\n",
       "      display: none;\n",
       "      fill: #1967D2;\n",
       "      height: 32px;\n",
       "      padding: 0 0 0 0;\n",
       "      width: 32px;\n",
       "    }\n",
       "\n",
       "    .colab-df-convert:hover {\n",
       "      background-color: #E2EBFA;\n",
       "      box-shadow: 0px 1px 2px rgba(60, 64, 67, 0.3), 0px 1px 3px 1px rgba(60, 64, 67, 0.15);\n",
       "      fill: #174EA6;\n",
       "    }\n",
       "\n",
       "    [theme=dark] .colab-df-convert {\n",
       "      background-color: #3B4455;\n",
       "      fill: #D2E3FC;\n",
       "    }\n",
       "\n",
       "    [theme=dark] .colab-df-convert:hover {\n",
       "      background-color: #434B5C;\n",
       "      box-shadow: 0px 1px 3px 1px rgba(0, 0, 0, 0.15);\n",
       "      filter: drop-shadow(0px 1px 2px rgba(0, 0, 0, 0.3));\n",
       "      fill: #FFFFFF;\n",
       "    }\n",
       "  </style>\n",
       "\n",
       "      <script>\n",
       "        const buttonEl =\n",
       "          document.querySelector('#df-7e1c99e3-ca37-43d4-b4d6-bc3b7d8960cf button.colab-df-convert');\n",
       "        buttonEl.style.display =\n",
       "          google.colab.kernel.accessAllowed ? 'block' : 'none';\n",
       "\n",
       "        async function convertToInteractive(key) {\n",
       "          const element = document.querySelector('#df-7e1c99e3-ca37-43d4-b4d6-bc3b7d8960cf');\n",
       "          const dataTable =\n",
       "            await google.colab.kernel.invokeFunction('convertToInteractive',\n",
       "                                                     [key], {});\n",
       "          if (!dataTable) return;\n",
       "\n",
       "          const docLinkHtml = 'Like what you see? Visit the ' +\n",
       "            '<a target=\"_blank\" href=https://colab.research.google.com/notebooks/data_table.ipynb>data table notebook</a>'\n",
       "            + ' to learn more about interactive tables.';\n",
       "          element.innerHTML = '';\n",
       "          dataTable['output_type'] = 'display_data';\n",
       "          await google.colab.output.renderOutput(dataTable, element);\n",
       "          const docLink = document.createElement('div');\n",
       "          docLink.innerHTML = docLinkHtml;\n",
       "          element.appendChild(docLink);\n",
       "        }\n",
       "      </script>\n",
       "    </div>\n",
       "  </div>\n",
       "  "
      ],
      "text/plain": [
       "          File_Name  Flatness\n",
       "0  reggae.00086.wav  0.417805\n",
       "1  reggae.00051.wav  0.131716\n",
       "2  reggae.00045.wav  0.124056\n",
       "3  reggae.00088.wav  0.103404\n",
       "4  reggae.00050.wav  0.090270\n",
       "5  reggae.00072.wav  0.065526\n",
       "6  reggae.00052.wav  0.060917\n",
       "7  reggae.00087.wav  0.059775\n",
       "8  reggae.00079.wav  0.056940\n",
       "9  reggae.00071.wav  0.050336"
      ]
     },
     "execution_count": 6,
     "metadata": {},
     "output_type": "execute_result"
    }
   ],
   "source": [
    "data = pd.DataFrame(flatness_reggae).sort_values(by = 'Flatness', ascending=False).reset_index(drop=True)\n",
    "\n",
    "#Most distorted songs in reggae\n",
    "data.head(10)"
   ]
  },
  {
   "cell_type": "markdown",
   "metadata": {
    "id": "86iI1ydQr5on"
   },
   "source": [
    "We have to remove reggae.00086.wav, Since it has high distorsion"
   ]
  },
  {
   "cell_type": "code",
   "execution_count": 7,
   "metadata": {
    "id": "UIDQVScFrEy3"
   },
   "outputs": [],
   "source": [
    "audio_to_del = data.iloc[0,0]\n",
    "path = os.path.join('Training_Audio_Data', 'GTZAN_Dataset','reggae',audio_to_del)\n",
    "os.remove(path)"
   ]
  },
  {
   "cell_type": "markdown",
   "metadata": {
    "id": "t26-Bb2kenGD"
   },
   "source": [
    "### Remakrs\n",
    "Now Since the both the Integrity and Audio Quality have been tested we can move to Feature Engineering"
   ]
  }
 ],
 "metadata": {
  "colab": {
   "collapsed_sections": [],
   "name": "Data_Cleaning.ipynb",
   "provenance": []
  },
  "kernelspec": {
   "display_name": "Python 3 (ipykernel)",
   "language": "python",
   "name": "python3"
  },
  "language_info": {
   "codemirror_mode": {
    "name": "ipython",
    "version": 3
   },
   "file_extension": ".py",
   "mimetype": "text/x-python",
   "name": "python",
   "nbconvert_exporter": "python",
   "pygments_lexer": "ipython3",
   "version": "3.9.6"
  }
 },
 "nbformat": 4,
 "nbformat_minor": 1
}
