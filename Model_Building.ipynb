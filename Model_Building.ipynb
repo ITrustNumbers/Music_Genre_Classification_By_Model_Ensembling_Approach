{
 "cells": [
  {
   "cell_type": "markdown",
   "metadata": {
    "id": "IilYTyi3z3nl"
   },
   "source": [
    "# Model Building\n",
    "\n",
    "In this notebook, I will create, train and perform hyper-parameter tuning on three different classifiers. The goal is to reach highest possible accuracy on test data.\n",
    "\n",
    "The Classification algorithms used are:\n",
    "\n",
    "1. XGBoost - Xtreme Gradient Boosting\n",
    "2. CatBoost\n",
    "3. Random Forest Classifier\n",
    "\n",
    "All the classifier will use sklearn implementation for training and CVSearch."
   ]
  },
  {
   "cell_type": "markdown",
   "metadata": {
    "id": "pt_TkxbL0rBu"
   },
   "source": [
    "## Loading Data"
   ]
  },
  {
   "cell_type": "code",
   "execution_count": 1,
   "metadata": {
    "colab": {
     "base_uri": "https://localhost:8080/",
     "height": 300
    },
    "id": "s9JHNOuS6K5Q",
    "outputId": "d46b7b77-9164-4d75-e2f7-93401fc61b20"
   },
   "outputs": [
    {
     "data": {
      "text/html": [
       "\n",
       "  <div id=\"df-f5353c95-79c0-48c7-b06a-410b9436f9fd\">\n",
       "    <div class=\"colab-df-container\">\n",
       "      <div>\n",
       "<style scoped>\n",
       "    .dataframe tbody tr th:only-of-type {\n",
       "        vertical-align: middle;\n",
       "    }\n",
       "\n",
       "    .dataframe tbody tr th {\n",
       "        vertical-align: top;\n",
       "    }\n",
       "\n",
       "    .dataframe thead th {\n",
       "        text-align: right;\n",
       "    }\n",
       "</style>\n",
       "<table border=\"1\" class=\"dataframe\">\n",
       "  <thead>\n",
       "    <tr style=\"text-align: right;\">\n",
       "      <th></th>\n",
       "      <th>File_Name</th>\n",
       "      <th>Tempo</th>\n",
       "      <th>Label</th>\n",
       "      <th>Chroma_STFT_Mean</th>\n",
       "      <th>Chroma_STFT_Var</th>\n",
       "      <th>RMS_Mean</th>\n",
       "      <th>RMS_Var</th>\n",
       "      <th>Spectral_Centroid_Mean</th>\n",
       "      <th>Spectral_Centroid_Var</th>\n",
       "      <th>Spectral_Bandwidth_Mean</th>\n",
       "      <th>...</th>\n",
       "      <th>MFCC16_Mean</th>\n",
       "      <th>MFCC16_Var</th>\n",
       "      <th>MFCC17_Mean</th>\n",
       "      <th>MFCC17_Var</th>\n",
       "      <th>MFCC18_Mean</th>\n",
       "      <th>MFCC18_Var</th>\n",
       "      <th>MFCC19_Mean</th>\n",
       "      <th>MFCC19_Var</th>\n",
       "      <th>MFCC20_Mean</th>\n",
       "      <th>MFCC20_Var</th>\n",
       "    </tr>\n",
       "  </thead>\n",
       "  <tbody>\n",
       "    <tr>\n",
       "      <th>0</th>\n",
       "      <td>blues.00000.0</td>\n",
       "      <td>129.199219</td>\n",
       "      <td>blues</td>\n",
       "      <td>0.335434</td>\n",
       "      <td>0.091088</td>\n",
       "      <td>0.130405</td>\n",
       "      <td>0.003521</td>\n",
       "      <td>1773.285877</td>\n",
       "      <td>168244.72840</td>\n",
       "      <td>1972.723622</td>\n",
       "      <td>...</td>\n",
       "      <td>-2.849641</td>\n",
       "      <td>39.725563</td>\n",
       "      <td>-3.241225</td>\n",
       "      <td>36.486427</td>\n",
       "      <td>0.721986</td>\n",
       "      <td>38.096760</td>\n",
       "      <td>-5.043307</td>\n",
       "      <td>33.608330</td>\n",
       "      <td>-0.237658</td>\n",
       "      <td>43.827770</td>\n",
       "    </tr>\n",
       "    <tr>\n",
       "      <th>1</th>\n",
       "      <td>blues.00000.1</td>\n",
       "      <td>123.046875</td>\n",
       "      <td>blues</td>\n",
       "      <td>0.343020</td>\n",
       "      <td>0.086142</td>\n",
       "      <td>0.112699</td>\n",
       "      <td>0.001450</td>\n",
       "      <td>1816.195860</td>\n",
       "      <td>90703.32519</td>\n",
       "      <td>2009.201575</td>\n",
       "      <td>...</td>\n",
       "      <td>4.123801</td>\n",
       "      <td>65.312965</td>\n",
       "      <td>-6.100084</td>\n",
       "      <td>40.738820</td>\n",
       "      <td>0.219240</td>\n",
       "      <td>50.587795</td>\n",
       "      <td>-2.875456</td>\n",
       "      <td>96.975440</td>\n",
       "      <td>5.800726</td>\n",
       "      <td>60.006115</td>\n",
       "    </tr>\n",
       "    <tr>\n",
       "      <th>2</th>\n",
       "      <td>blues.00000.2</td>\n",
       "      <td>123.046875</td>\n",
       "      <td>blues</td>\n",
       "      <td>0.346838</td>\n",
       "      <td>0.092210</td>\n",
       "      <td>0.132002</td>\n",
       "      <td>0.004620</td>\n",
       "      <td>1788.642783</td>\n",
       "      <td>111322.53710</td>\n",
       "      <td>2085.045996</td>\n",
       "      <td>...</td>\n",
       "      <td>4.789981</td>\n",
       "      <td>67.582200</td>\n",
       "      <td>-1.801321</td>\n",
       "      <td>28.132212</td>\n",
       "      <td>2.308315</td>\n",
       "      <td>48.102486</td>\n",
       "      <td>-1.931482</td>\n",
       "      <td>53.116814</td>\n",
       "      <td>2.522431</td>\n",
       "      <td>33.136240</td>\n",
       "    </tr>\n",
       "    <tr>\n",
       "      <th>3</th>\n",
       "      <td>blues.00000.3</td>\n",
       "      <td>123.046875</td>\n",
       "      <td>blues</td>\n",
       "      <td>0.363671</td>\n",
       "      <td>0.086856</td>\n",
       "      <td>0.132562</td>\n",
       "      <td>0.002447</td>\n",
       "      <td>1654.902168</td>\n",
       "      <td>112316.26440</td>\n",
       "      <td>1959.202709</td>\n",
       "      <td>...</td>\n",
       "      <td>-1.322859</td>\n",
       "      <td>47.059677</td>\n",
       "      <td>-3.859235</td>\n",
       "      <td>27.984930</td>\n",
       "      <td>1.255384</td>\n",
       "      <td>35.093280</td>\n",
       "      <td>-3.619866</td>\n",
       "      <td>51.420635</td>\n",
       "      <td>3.639336</td>\n",
       "      <td>31.930040</td>\n",
       "    </tr>\n",
       "    <tr>\n",
       "      <th>4</th>\n",
       "      <td>blues.00000.4</td>\n",
       "      <td>123.046875</td>\n",
       "      <td>blues</td>\n",
       "      <td>0.335927</td>\n",
       "      <td>0.088291</td>\n",
       "      <td>0.143289</td>\n",
       "      <td>0.001701</td>\n",
       "      <td>1630.737017</td>\n",
       "      <td>79648.22830</td>\n",
       "      <td>1948.459295</td>\n",
       "      <td>...</td>\n",
       "      <td>2.090514</td>\n",
       "      <td>30.307617</td>\n",
       "      <td>0.629567</td>\n",
       "      <td>44.883636</td>\n",
       "      <td>1.709781</td>\n",
       "      <td>51.706690</td>\n",
       "      <td>-3.402106</td>\n",
       "      <td>26.686306</td>\n",
       "      <td>0.546950</td>\n",
       "      <td>29.212286</td>\n",
       "    </tr>\n",
       "  </tbody>\n",
       "</table>\n",
       "<p>5 rows × 59 columns</p>\n",
       "</div>\n",
       "      <button class=\"colab-df-convert\" onclick=\"convertToInteractive('df-f5353c95-79c0-48c7-b06a-410b9436f9fd')\"\n",
       "              title=\"Convert this dataframe to an interactive table.\"\n",
       "              style=\"display:none;\">\n",
       "        \n",
       "  <svg xmlns=\"http://www.w3.org/2000/svg\" height=\"24px\"viewBox=\"0 0 24 24\"\n",
       "       width=\"24px\">\n",
       "    <path d=\"M0 0h24v24H0V0z\" fill=\"none\"/>\n",
       "    <path d=\"M18.56 5.44l.94 2.06.94-2.06 2.06-.94-2.06-.94-.94-2.06-.94 2.06-2.06.94zm-11 1L8.5 8.5l.94-2.06 2.06-.94-2.06-.94L8.5 2.5l-.94 2.06-2.06.94zm10 10l.94 2.06.94-2.06 2.06-.94-2.06-.94-.94-2.06-.94 2.06-2.06.94z\"/><path d=\"M17.41 7.96l-1.37-1.37c-.4-.4-.92-.59-1.43-.59-.52 0-1.04.2-1.43.59L10.3 9.45l-7.72 7.72c-.78.78-.78 2.05 0 2.83L4 21.41c.39.39.9.59 1.41.59.51 0 1.02-.2 1.41-.59l7.78-7.78 2.81-2.81c.8-.78.8-2.07 0-2.86zM5.41 20L4 18.59l7.72-7.72 1.47 1.35L5.41 20z\"/>\n",
       "  </svg>\n",
       "      </button>\n",
       "      \n",
       "  <style>\n",
       "    .colab-df-container {\n",
       "      display:flex;\n",
       "      flex-wrap:wrap;\n",
       "      gap: 12px;\n",
       "    }\n",
       "\n",
       "    .colab-df-convert {\n",
       "      background-color: #E8F0FE;\n",
       "      border: none;\n",
       "      border-radius: 50%;\n",
       "      cursor: pointer;\n",
       "      display: none;\n",
       "      fill: #1967D2;\n",
       "      height: 32px;\n",
       "      padding: 0 0 0 0;\n",
       "      width: 32px;\n",
       "    }\n",
       "\n",
       "    .colab-df-convert:hover {\n",
       "      background-color: #E2EBFA;\n",
       "      box-shadow: 0px 1px 2px rgba(60, 64, 67, 0.3), 0px 1px 3px 1px rgba(60, 64, 67, 0.15);\n",
       "      fill: #174EA6;\n",
       "    }\n",
       "\n",
       "    [theme=dark] .colab-df-convert {\n",
       "      background-color: #3B4455;\n",
       "      fill: #D2E3FC;\n",
       "    }\n",
       "\n",
       "    [theme=dark] .colab-df-convert:hover {\n",
       "      background-color: #434B5C;\n",
       "      box-shadow: 0px 1px 3px 1px rgba(0, 0, 0, 0.15);\n",
       "      filter: drop-shadow(0px 1px 2px rgba(0, 0, 0, 0.3));\n",
       "      fill: #FFFFFF;\n",
       "    }\n",
       "  </style>\n",
       "\n",
       "      <script>\n",
       "        const buttonEl =\n",
       "          document.querySelector('#df-f5353c95-79c0-48c7-b06a-410b9436f9fd button.colab-df-convert');\n",
       "        buttonEl.style.display =\n",
       "          google.colab.kernel.accessAllowed ? 'block' : 'none';\n",
       "\n",
       "        async function convertToInteractive(key) {\n",
       "          const element = document.querySelector('#df-f5353c95-79c0-48c7-b06a-410b9436f9fd');\n",
       "          const dataTable =\n",
       "            await google.colab.kernel.invokeFunction('convertToInteractive',\n",
       "                                                     [key], {});\n",
       "          if (!dataTable) return;\n",
       "\n",
       "          const docLinkHtml = 'Like what you see? Visit the ' +\n",
       "            '<a target=\"_blank\" href=https://colab.research.google.com/notebooks/data_table.ipynb>data table notebook</a>'\n",
       "            + ' to learn more about interactive tables.';\n",
       "          element.innerHTML = '';\n",
       "          dataTable['output_type'] = 'display_data';\n",
       "          await google.colab.output.renderOutput(dataTable, element);\n",
       "          const docLink = document.createElement('div');\n",
       "          docLink.innerHTML = docLinkHtml;\n",
       "          element.appendChild(docLink);\n",
       "        }\n",
       "      </script>\n",
       "    </div>\n",
       "  </div>\n",
       "  "
      ],
      "text/plain": [
       "       File_Name       Tempo  Label  Chroma_STFT_Mean  Chroma_STFT_Var  \\\n",
       "0  blues.00000.0  129.199219  blues          0.335434         0.091088   \n",
       "1  blues.00000.1  123.046875  blues          0.343020         0.086142   \n",
       "2  blues.00000.2  123.046875  blues          0.346838         0.092210   \n",
       "3  blues.00000.3  123.046875  blues          0.363671         0.086856   \n",
       "4  blues.00000.4  123.046875  blues          0.335927         0.088291   \n",
       "\n",
       "   RMS_Mean   RMS_Var  Spectral_Centroid_Mean  Spectral_Centroid_Var  \\\n",
       "0  0.130405  0.003521             1773.285877           168244.72840   \n",
       "1  0.112699  0.001450             1816.195860            90703.32519   \n",
       "2  0.132002  0.004620             1788.642783           111322.53710   \n",
       "3  0.132562  0.002447             1654.902168           112316.26440   \n",
       "4  0.143289  0.001701             1630.737017            79648.22830   \n",
       "\n",
       "   Spectral_Bandwidth_Mean  ...  MFCC16_Mean  MFCC16_Var  MFCC17_Mean  \\\n",
       "0              1972.723622  ...    -2.849641   39.725563    -3.241225   \n",
       "1              2009.201575  ...     4.123801   65.312965    -6.100084   \n",
       "2              2085.045996  ...     4.789981   67.582200    -1.801321   \n",
       "3              1959.202709  ...    -1.322859   47.059677    -3.859235   \n",
       "4              1948.459295  ...     2.090514   30.307617     0.629567   \n",
       "\n",
       "   MFCC17_Var  MFCC18_Mean  MFCC18_Var  MFCC19_Mean  MFCC19_Var  MFCC20_Mean  \\\n",
       "0   36.486427     0.721986   38.096760    -5.043307   33.608330    -0.237658   \n",
       "1   40.738820     0.219240   50.587795    -2.875456   96.975440     5.800726   \n",
       "2   28.132212     2.308315   48.102486    -1.931482   53.116814     2.522431   \n",
       "3   27.984930     1.255384   35.093280    -3.619866   51.420635     3.639336   \n",
       "4   44.883636     1.709781   51.706690    -3.402106   26.686306     0.546950   \n",
       "\n",
       "   MFCC20_Var  \n",
       "0   43.827770  \n",
       "1   60.006115  \n",
       "2   33.136240  \n",
       "3   31.930040  \n",
       "4   29.212286  \n",
       "\n",
       "[5 rows x 59 columns]"
      ]
     },
     "execution_count": 1,
     "metadata": {},
     "output_type": "execute_result"
    }
   ],
   "source": [
    "import pandas as pd\n",
    "import numpy as np\n",
    "import os\n",
    "\n",
    "#Reading Extracted Festures\n",
    "path = os.path.join('Training_Features', 'Splitted_Dataset_Features_3sec.csv')\n",
    "df = pd.read_csv(path)\n",
    "df.head(5)"
   ]
  },
  {
   "cell_type": "markdown",
   "metadata": {
    "id": "-wYXR3JfbIvG"
   },
   "source": [
    "## Encoding Target Labels"
   ]
  },
  {
   "cell_type": "code",
   "execution_count": 2,
   "metadata": {
    "colab": {
     "base_uri": "https://localhost:8080/"
    },
    "id": "PTQi_xMObIFs",
    "outputId": "5a709bfb-1795-40d9-ec58-b8c9aafbe3d7"
   },
   "outputs": [
    {
     "data": {
      "text/plain": [
       "{'blues': 0,\n",
       " 'classical': 1,\n",
       " 'country': 2,\n",
       " 'disco': 3,\n",
       " 'hiphop': 4,\n",
       " 'jazz': 5,\n",
       " 'metal': 6,\n",
       " 'pop': 7,\n",
       " 'reggae': 8,\n",
       " 'rock': 9}"
      ]
     },
     "execution_count": 2,
     "metadata": {},
     "output_type": "execute_result"
    }
   ],
   "source": [
    "#Encoder\n",
    "label_enc = {}\n",
    "for i, label in enumerate(df.Label.unique()):\n",
    "  label_enc[label] = i\n",
    "\n",
    "label_enc"
   ]
  },
  {
   "cell_type": "code",
   "execution_count": 3,
   "metadata": {
    "colab": {
     "base_uri": "https://localhost:8080/",
     "height": 363
    },
    "id": "nQS-8rzebvkC",
    "outputId": "76efccfe-8d45-4db2-9529-7068add2b5d5"
   },
   "outputs": [
    {
     "data": {
      "text/html": [
       "\n",
       "  <div id=\"df-2f9ec2b0-ceeb-40f1-b96d-f0dbcb51c6d0\">\n",
       "    <div class=\"colab-df-container\">\n",
       "      <div>\n",
       "<style scoped>\n",
       "    .dataframe tbody tr th:only-of-type {\n",
       "        vertical-align: middle;\n",
       "    }\n",
       "\n",
       "    .dataframe tbody tr th {\n",
       "        vertical-align: top;\n",
       "    }\n",
       "\n",
       "    .dataframe thead th {\n",
       "        text-align: right;\n",
       "    }\n",
       "</style>\n",
       "<table border=\"1\" class=\"dataframe\">\n",
       "  <thead>\n",
       "    <tr style=\"text-align: right;\">\n",
       "      <th></th>\n",
       "      <th>File_Name</th>\n",
       "      <th>Label</th>\n",
       "    </tr>\n",
       "  </thead>\n",
       "  <tbody>\n",
       "    <tr>\n",
       "      <th>0</th>\n",
       "      <td>classical.00046.3</td>\n",
       "      <td>1</td>\n",
       "    </tr>\n",
       "    <tr>\n",
       "      <th>1</th>\n",
       "      <td>metal.00057.0</td>\n",
       "      <td>6</td>\n",
       "    </tr>\n",
       "    <tr>\n",
       "      <th>2</th>\n",
       "      <td>reggae.00007.7</td>\n",
       "      <td>8</td>\n",
       "    </tr>\n",
       "    <tr>\n",
       "      <th>3</th>\n",
       "      <td>country.00050.1</td>\n",
       "      <td>2</td>\n",
       "    </tr>\n",
       "    <tr>\n",
       "      <th>4</th>\n",
       "      <td>country.00046.6</td>\n",
       "      <td>2</td>\n",
       "    </tr>\n",
       "    <tr>\n",
       "      <th>5</th>\n",
       "      <td>reggae.00050.5</td>\n",
       "      <td>8</td>\n",
       "    </tr>\n",
       "    <tr>\n",
       "      <th>6</th>\n",
       "      <td>reggae.00019.5</td>\n",
       "      <td>8</td>\n",
       "    </tr>\n",
       "    <tr>\n",
       "      <th>7</th>\n",
       "      <td>classical.00082.4</td>\n",
       "      <td>1</td>\n",
       "    </tr>\n",
       "    <tr>\n",
       "      <th>8</th>\n",
       "      <td>hiphop.00086.0</td>\n",
       "      <td>4</td>\n",
       "    </tr>\n",
       "    <tr>\n",
       "      <th>9</th>\n",
       "      <td>reggae.00066.5</td>\n",
       "      <td>8</td>\n",
       "    </tr>\n",
       "  </tbody>\n",
       "</table>\n",
       "</div>\n",
       "      <button class=\"colab-df-convert\" onclick=\"convertToInteractive('df-2f9ec2b0-ceeb-40f1-b96d-f0dbcb51c6d0')\"\n",
       "              title=\"Convert this dataframe to an interactive table.\"\n",
       "              style=\"display:none;\">\n",
       "        \n",
       "  <svg xmlns=\"http://www.w3.org/2000/svg\" height=\"24px\"viewBox=\"0 0 24 24\"\n",
       "       width=\"24px\">\n",
       "    <path d=\"M0 0h24v24H0V0z\" fill=\"none\"/>\n",
       "    <path d=\"M18.56 5.44l.94 2.06.94-2.06 2.06-.94-2.06-.94-.94-2.06-.94 2.06-2.06.94zm-11 1L8.5 8.5l.94-2.06 2.06-.94-2.06-.94L8.5 2.5l-.94 2.06-2.06.94zm10 10l.94 2.06.94-2.06 2.06-.94-2.06-.94-.94-2.06-.94 2.06-2.06.94z\"/><path d=\"M17.41 7.96l-1.37-1.37c-.4-.4-.92-.59-1.43-.59-.52 0-1.04.2-1.43.59L10.3 9.45l-7.72 7.72c-.78.78-.78 2.05 0 2.83L4 21.41c.39.39.9.59 1.41.59.51 0 1.02-.2 1.41-.59l7.78-7.78 2.81-2.81c.8-.78.8-2.07 0-2.86zM5.41 20L4 18.59l7.72-7.72 1.47 1.35L5.41 20z\"/>\n",
       "  </svg>\n",
       "      </button>\n",
       "      \n",
       "  <style>\n",
       "    .colab-df-container {\n",
       "      display:flex;\n",
       "      flex-wrap:wrap;\n",
       "      gap: 12px;\n",
       "    }\n",
       "\n",
       "    .colab-df-convert {\n",
       "      background-color: #E8F0FE;\n",
       "      border: none;\n",
       "      border-radius: 50%;\n",
       "      cursor: pointer;\n",
       "      display: none;\n",
       "      fill: #1967D2;\n",
       "      height: 32px;\n",
       "      padding: 0 0 0 0;\n",
       "      width: 32px;\n",
       "    }\n",
       "\n",
       "    .colab-df-convert:hover {\n",
       "      background-color: #E2EBFA;\n",
       "      box-shadow: 0px 1px 2px rgba(60, 64, 67, 0.3), 0px 1px 3px 1px rgba(60, 64, 67, 0.15);\n",
       "      fill: #174EA6;\n",
       "    }\n",
       "\n",
       "    [theme=dark] .colab-df-convert {\n",
       "      background-color: #3B4455;\n",
       "      fill: #D2E3FC;\n",
       "    }\n",
       "\n",
       "    [theme=dark] .colab-df-convert:hover {\n",
       "      background-color: #434B5C;\n",
       "      box-shadow: 0px 1px 3px 1px rgba(0, 0, 0, 0.15);\n",
       "      filter: drop-shadow(0px 1px 2px rgba(0, 0, 0, 0.3));\n",
       "      fill: #FFFFFF;\n",
       "    }\n",
       "  </style>\n",
       "\n",
       "      <script>\n",
       "        const buttonEl =\n",
       "          document.querySelector('#df-2f9ec2b0-ceeb-40f1-b96d-f0dbcb51c6d0 button.colab-df-convert');\n",
       "        buttonEl.style.display =\n",
       "          google.colab.kernel.accessAllowed ? 'block' : 'none';\n",
       "\n",
       "        async function convertToInteractive(key) {\n",
       "          const element = document.querySelector('#df-2f9ec2b0-ceeb-40f1-b96d-f0dbcb51c6d0');\n",
       "          const dataTable =\n",
       "            await google.colab.kernel.invokeFunction('convertToInteractive',\n",
       "                                                     [key], {});\n",
       "          if (!dataTable) return;\n",
       "\n",
       "          const docLinkHtml = 'Like what you see? Visit the ' +\n",
       "            '<a target=\"_blank\" href=https://colab.research.google.com/notebooks/data_table.ipynb>data table notebook</a>'\n",
       "            + ' to learn more about interactive tables.';\n",
       "          element.innerHTML = '';\n",
       "          dataTable['output_type'] = 'display_data';\n",
       "          await google.colab.output.renderOutput(dataTable, element);\n",
       "          const docLink = document.createElement('div');\n",
       "          docLink.innerHTML = docLinkHtml;\n",
       "          element.appendChild(docLink);\n",
       "        }\n",
       "      </script>\n",
       "    </div>\n",
       "  </div>\n",
       "  "
      ],
      "text/plain": [
       "           File_Name  Label\n",
       "0  classical.00046.3      1\n",
       "1      metal.00057.0      6\n",
       "2     reggae.00007.7      8\n",
       "3    country.00050.1      2\n",
       "4    country.00046.6      2\n",
       "5     reggae.00050.5      8\n",
       "6     reggae.00019.5      8\n",
       "7  classical.00082.4      1\n",
       "8     hiphop.00086.0      4\n",
       "9     reggae.00066.5      8"
      ]
     },
     "execution_count": 3,
     "metadata": {},
     "output_type": "execute_result"
    }
   ],
   "source": [
    "#Shuffling and encoding\n",
    "df.Label = df.Label.apply(lambda label : label_enc[label])\n",
    "df = df.sample(frac=1).reset_index(drop=True)\n",
    "\n",
    "#Checking\n",
    "df.head(10)[['File_Name','Label']]"
   ]
  },
  {
   "cell_type": "markdown",
   "metadata": {
    "id": "MKM50jgVarbm"
   },
   "source": [
    "## Train, Test Split\n",
    "\n",
    "For training 70% of the data will be used and subsequently 30% of the data will be utilized for testing"
   ]
  },
  {
   "cell_type": "code",
   "execution_count": 4,
   "metadata": {
    "colab": {
     "base_uri": "https://localhost:8080/"
    },
    "id": "XqcvFI6baP68",
    "outputId": "a4f262cb-a1e3-4d0e-b5b5-3c59a8e2973b"
   },
   "outputs": [
    {
     "name": "stdout",
     "output_type": "stream",
     "text": [
      "Number of instances in training set : 6986, 70.0%\n",
      "Number of instances in testing set : 2995, 30.0%\n"
     ]
    }
   ],
   "source": [
    "# Seperating Features and Labels\n",
    "df_X = df.drop(columns = ['File_Name', 'Label'])\n",
    "df_y = df.pop('Label')\n",
    "\n",
    "#Splitting\n",
    "from sklearn.model_selection import train_test_split\n",
    "X_train, X_test, y_train, y_test = train_test_split(df_X, df_y, test_size=0.3, random_state=42)\n",
    "\n",
    "#Checking Number of instances\n",
    "print('Number of instances in training set : {}, {:.1f}%'.format(X_train.shape[0], (X_train.shape[0]/9981)*100))\n",
    "print('Number of instances in testing set : {}, {:.1f}%'.format(X_test.shape[0], (X_test.shape[0]/9981)*100))"
   ]
  },
  {
   "cell_type": "markdown",
   "metadata": {
    "id": "DhyORqt8mcIL"
   },
   "source": [
    "## Feature Scaling\n",
    "\n",
    "Different features are on different scales and since classification algorithms are sensitive to scaling of the data, I am Standardizing all of the features while preventing any data leakage."
   ]
  },
  {
   "cell_type": "code",
   "execution_count": 5,
   "metadata": {
    "colab": {
     "base_uri": "https://localhost:8080/",
     "height": 300
    },
    "id": "D_6JaVummb04",
    "outputId": "48b3d5d2-86d0-4678-f363-2ccf50e659f9"
   },
   "outputs": [
    {
     "data": {
      "text/html": [
       "\n",
       "  <div id=\"df-35c40a65-8637-4da6-88b2-110b80a81bf7\">\n",
       "    <div class=\"colab-df-container\">\n",
       "      <div>\n",
       "<style scoped>\n",
       "    .dataframe tbody tr th:only-of-type {\n",
       "        vertical-align: middle;\n",
       "    }\n",
       "\n",
       "    .dataframe tbody tr th {\n",
       "        vertical-align: top;\n",
       "    }\n",
       "\n",
       "    .dataframe thead th {\n",
       "        text-align: right;\n",
       "    }\n",
       "</style>\n",
       "<table border=\"1\" class=\"dataframe\">\n",
       "  <thead>\n",
       "    <tr style=\"text-align: right;\">\n",
       "      <th></th>\n",
       "      <th>Tempo</th>\n",
       "      <th>Chroma_STFT_Mean</th>\n",
       "      <th>Chroma_STFT_Var</th>\n",
       "      <th>RMS_Mean</th>\n",
       "      <th>RMS_Var</th>\n",
       "      <th>Spectral_Centroid_Mean</th>\n",
       "      <th>Spectral_Centroid_Var</th>\n",
       "      <th>Spectral_Bandwidth_Mean</th>\n",
       "      <th>Spectral_Bandwidth_Var</th>\n",
       "      <th>Spectral_Rolloff_Mean</th>\n",
       "      <th>...</th>\n",
       "      <th>MFCC16_Mean</th>\n",
       "      <th>MFCC16_Var</th>\n",
       "      <th>MFCC17_Mean</th>\n",
       "      <th>MFCC17_Var</th>\n",
       "      <th>MFCC18_Mean</th>\n",
       "      <th>MFCC18_Var</th>\n",
       "      <th>MFCC19_Mean</th>\n",
       "      <th>MFCC19_Var</th>\n",
       "      <th>MFCC20_Mean</th>\n",
       "      <th>MFCC20_Var</th>\n",
       "    </tr>\n",
       "  </thead>\n",
       "  <tbody>\n",
       "    <tr>\n",
       "      <th>0</th>\n",
       "      <td>0.139939</td>\n",
       "      <td>1.425623</td>\n",
       "      <td>-0.278757</td>\n",
       "      <td>1.072605</td>\n",
       "      <td>2.186911</td>\n",
       "      <td>1.556728</td>\n",
       "      <td>2.656442</td>\n",
       "      <td>1.886438</td>\n",
       "      <td>0.727727</td>\n",
       "      <td>1.759799</td>\n",
       "      <td>...</td>\n",
       "      <td>0.415780</td>\n",
       "      <td>0.316748</td>\n",
       "      <td>-0.057151</td>\n",
       "      <td>0.028070</td>\n",
       "      <td>-0.309088</td>\n",
       "      <td>-0.029330</td>\n",
       "      <td>1.621807</td>\n",
       "      <td>0.031028</td>\n",
       "      <td>0.025329</td>\n",
       "      <td>-0.715449</td>\n",
       "    </tr>\n",
       "    <tr>\n",
       "      <th>1</th>\n",
       "      <td>-0.047183</td>\n",
       "      <td>-0.476646</td>\n",
       "      <td>0.350565</td>\n",
       "      <td>0.189832</td>\n",
       "      <td>-0.273210</td>\n",
       "      <td>-0.760951</td>\n",
       "      <td>-0.778536</td>\n",
       "      <td>-0.539592</td>\n",
       "      <td>-0.572352</td>\n",
       "      <td>-0.670467</td>\n",
       "      <td>...</td>\n",
       "      <td>0.113761</td>\n",
       "      <td>-0.566708</td>\n",
       "      <td>0.844671</td>\n",
       "      <td>-0.199316</td>\n",
       "      <td>0.184403</td>\n",
       "      <td>-0.029209</td>\n",
       "      <td>-0.185281</td>\n",
       "      <td>-0.690624</td>\n",
       "      <td>0.282688</td>\n",
       "      <td>-0.613597</td>\n",
       "    </tr>\n",
       "    <tr>\n",
       "      <th>2</th>\n",
       "      <td>-0.982794</td>\n",
       "      <td>0.504151</td>\n",
       "      <td>-0.119724</td>\n",
       "      <td>0.049238</td>\n",
       "      <td>-0.430682</td>\n",
       "      <td>0.308479</td>\n",
       "      <td>1.526889</td>\n",
       "      <td>0.698438</td>\n",
       "      <td>2.656525</td>\n",
       "      <td>0.130519</td>\n",
       "      <td>...</td>\n",
       "      <td>-0.495328</td>\n",
       "      <td>0.738669</td>\n",
       "      <td>1.962506</td>\n",
       "      <td>-0.073803</td>\n",
       "      <td>0.025118</td>\n",
       "      <td>3.029950</td>\n",
       "      <td>1.210295</td>\n",
       "      <td>-0.317640</td>\n",
       "      <td>-0.274510</td>\n",
       "      <td>0.051418</td>\n",
       "    </tr>\n",
       "    <tr>\n",
       "      <th>3</th>\n",
       "      <td>-0.047183</td>\n",
       "      <td>0.041636</td>\n",
       "      <td>0.732934</td>\n",
       "      <td>-0.149228</td>\n",
       "      <td>0.245576</td>\n",
       "      <td>-0.565436</td>\n",
       "      <td>-0.349453</td>\n",
       "      <td>-0.554438</td>\n",
       "      <td>0.288149</td>\n",
       "      <td>-0.466515</td>\n",
       "      <td>...</td>\n",
       "      <td>-0.522837</td>\n",
       "      <td>0.251242</td>\n",
       "      <td>-0.447743</td>\n",
       "      <td>0.791174</td>\n",
       "      <td>0.691446</td>\n",
       "      <td>2.204526</td>\n",
       "      <td>0.170457</td>\n",
       "      <td>-0.444649</td>\n",
       "      <td>-0.495398</td>\n",
       "      <td>-0.058196</td>\n",
       "    </tr>\n",
       "    <tr>\n",
       "      <th>4</th>\n",
       "      <td>-0.217294</td>\n",
       "      <td>0.743883</td>\n",
       "      <td>0.593781</td>\n",
       "      <td>0.090314</td>\n",
       "      <td>0.637729</td>\n",
       "      <td>-0.204684</td>\n",
       "      <td>0.297451</td>\n",
       "      <td>0.597283</td>\n",
       "      <td>1.112304</td>\n",
       "      <td>0.008594</td>\n",
       "      <td>...</td>\n",
       "      <td>-0.900874</td>\n",
       "      <td>-0.757234</td>\n",
       "      <td>-0.077248</td>\n",
       "      <td>-0.639338</td>\n",
       "      <td>0.568159</td>\n",
       "      <td>-0.396001</td>\n",
       "      <td>-0.221948</td>\n",
       "      <td>-0.428561</td>\n",
       "      <td>-0.387130</td>\n",
       "      <td>-0.739125</td>\n",
       "    </tr>\n",
       "  </tbody>\n",
       "</table>\n",
       "<p>5 rows × 57 columns</p>\n",
       "</div>\n",
       "      <button class=\"colab-df-convert\" onclick=\"convertToInteractive('df-35c40a65-8637-4da6-88b2-110b80a81bf7')\"\n",
       "              title=\"Convert this dataframe to an interactive table.\"\n",
       "              style=\"display:none;\">\n",
       "        \n",
       "  <svg xmlns=\"http://www.w3.org/2000/svg\" height=\"24px\"viewBox=\"0 0 24 24\"\n",
       "       width=\"24px\">\n",
       "    <path d=\"M0 0h24v24H0V0z\" fill=\"none\"/>\n",
       "    <path d=\"M18.56 5.44l.94 2.06.94-2.06 2.06-.94-2.06-.94-.94-2.06-.94 2.06-2.06.94zm-11 1L8.5 8.5l.94-2.06 2.06-.94-2.06-.94L8.5 2.5l-.94 2.06-2.06.94zm10 10l.94 2.06.94-2.06 2.06-.94-2.06-.94-.94-2.06-.94 2.06-2.06.94z\"/><path d=\"M17.41 7.96l-1.37-1.37c-.4-.4-.92-.59-1.43-.59-.52 0-1.04.2-1.43.59L10.3 9.45l-7.72 7.72c-.78.78-.78 2.05 0 2.83L4 21.41c.39.39.9.59 1.41.59.51 0 1.02-.2 1.41-.59l7.78-7.78 2.81-2.81c.8-.78.8-2.07 0-2.86zM5.41 20L4 18.59l7.72-7.72 1.47 1.35L5.41 20z\"/>\n",
       "  </svg>\n",
       "      </button>\n",
       "      \n",
       "  <style>\n",
       "    .colab-df-container {\n",
       "      display:flex;\n",
       "      flex-wrap:wrap;\n",
       "      gap: 12px;\n",
       "    }\n",
       "\n",
       "    .colab-df-convert {\n",
       "      background-color: #E8F0FE;\n",
       "      border: none;\n",
       "      border-radius: 50%;\n",
       "      cursor: pointer;\n",
       "      display: none;\n",
       "      fill: #1967D2;\n",
       "      height: 32px;\n",
       "      padding: 0 0 0 0;\n",
       "      width: 32px;\n",
       "    }\n",
       "\n",
       "    .colab-df-convert:hover {\n",
       "      background-color: #E2EBFA;\n",
       "      box-shadow: 0px 1px 2px rgba(60, 64, 67, 0.3), 0px 1px 3px 1px rgba(60, 64, 67, 0.15);\n",
       "      fill: #174EA6;\n",
       "    }\n",
       "\n",
       "    [theme=dark] .colab-df-convert {\n",
       "      background-color: #3B4455;\n",
       "      fill: #D2E3FC;\n",
       "    }\n",
       "\n",
       "    [theme=dark] .colab-df-convert:hover {\n",
       "      background-color: #434B5C;\n",
       "      box-shadow: 0px 1px 3px 1px rgba(0, 0, 0, 0.15);\n",
       "      filter: drop-shadow(0px 1px 2px rgba(0, 0, 0, 0.3));\n",
       "      fill: #FFFFFF;\n",
       "    }\n",
       "  </style>\n",
       "\n",
       "      <script>\n",
       "        const buttonEl =\n",
       "          document.querySelector('#df-35c40a65-8637-4da6-88b2-110b80a81bf7 button.colab-df-convert');\n",
       "        buttonEl.style.display =\n",
       "          google.colab.kernel.accessAllowed ? 'block' : 'none';\n",
       "\n",
       "        async function convertToInteractive(key) {\n",
       "          const element = document.querySelector('#df-35c40a65-8637-4da6-88b2-110b80a81bf7');\n",
       "          const dataTable =\n",
       "            await google.colab.kernel.invokeFunction('convertToInteractive',\n",
       "                                                     [key], {});\n",
       "          if (!dataTable) return;\n",
       "\n",
       "          const docLinkHtml = 'Like what you see? Visit the ' +\n",
       "            '<a target=\"_blank\" href=https://colab.research.google.com/notebooks/data_table.ipynb>data table notebook</a>'\n",
       "            + ' to learn more about interactive tables.';\n",
       "          element.innerHTML = '';\n",
       "          dataTable['output_type'] = 'display_data';\n",
       "          await google.colab.output.renderOutput(dataTable, element);\n",
       "          const docLink = document.createElement('div');\n",
       "          docLink.innerHTML = docLinkHtml;\n",
       "          element.appendChild(docLink);\n",
       "        }\n",
       "      </script>\n",
       "    </div>\n",
       "  </div>\n",
       "  "
      ],
      "text/plain": [
       "      Tempo  Chroma_STFT_Mean  Chroma_STFT_Var  RMS_Mean   RMS_Var  \\\n",
       "0  0.139939          1.425623        -0.278757  1.072605  2.186911   \n",
       "1 -0.047183         -0.476646         0.350565  0.189832 -0.273210   \n",
       "2 -0.982794          0.504151        -0.119724  0.049238 -0.430682   \n",
       "3 -0.047183          0.041636         0.732934 -0.149228  0.245576   \n",
       "4 -0.217294          0.743883         0.593781  0.090314  0.637729   \n",
       "\n",
       "   Spectral_Centroid_Mean  Spectral_Centroid_Var  Spectral_Bandwidth_Mean  \\\n",
       "0                1.556728               2.656442                 1.886438   \n",
       "1               -0.760951              -0.778536                -0.539592   \n",
       "2                0.308479               1.526889                 0.698438   \n",
       "3               -0.565436              -0.349453                -0.554438   \n",
       "4               -0.204684               0.297451                 0.597283   \n",
       "\n",
       "   Spectral_Bandwidth_Var  Spectral_Rolloff_Mean  ...  MFCC16_Mean  \\\n",
       "0                0.727727               1.759799  ...     0.415780   \n",
       "1               -0.572352              -0.670467  ...     0.113761   \n",
       "2                2.656525               0.130519  ...    -0.495328   \n",
       "3                0.288149              -0.466515  ...    -0.522837   \n",
       "4                1.112304               0.008594  ...    -0.900874   \n",
       "\n",
       "   MFCC16_Var  MFCC17_Mean  MFCC17_Var  MFCC18_Mean  MFCC18_Var  MFCC19_Mean  \\\n",
       "0    0.316748    -0.057151    0.028070    -0.309088   -0.029330     1.621807   \n",
       "1   -0.566708     0.844671   -0.199316     0.184403   -0.029209    -0.185281   \n",
       "2    0.738669     1.962506   -0.073803     0.025118    3.029950     1.210295   \n",
       "3    0.251242    -0.447743    0.791174     0.691446    2.204526     0.170457   \n",
       "4   -0.757234    -0.077248   -0.639338     0.568159   -0.396001    -0.221948   \n",
       "\n",
       "   MFCC19_Var  MFCC20_Mean  MFCC20_Var  \n",
       "0    0.031028     0.025329   -0.715449  \n",
       "1   -0.690624     0.282688   -0.613597  \n",
       "2   -0.317640    -0.274510    0.051418  \n",
       "3   -0.444649    -0.495398   -0.058196  \n",
       "4   -0.428561    -0.387130   -0.739125  \n",
       "\n",
       "[5 rows x 57 columns]"
      ]
     },
     "execution_count": 5,
     "metadata": {},
     "output_type": "execute_result"
    }
   ],
   "source": [
    "from sklearn.preprocessing import StandardScaler\n",
    "\n",
    "cols = X_train.columns\n",
    "scaler = StandardScaler()\n",
    "X_train = pd.DataFrame(scaler.fit_transform(X_train), columns = cols)\n",
    "X_test = pd.DataFrame(scaler.transform(X_test), columns = cols)\n",
    "y_train = y_train.reset_index(drop=True)\n",
    "y_test = y_test.reset_index(drop=True)\n",
    "\n",
    "X_train.head()"
   ]
  },
  {
   "cell_type": "markdown",
   "metadata": {
    "id": "-Vq_sVWqOMTy"
   },
   "source": [
    "## Helper Function\n",
    "\n",
    "A function to quickly validate the model by plotting the confusion matrix and printing the classification report.\n",
    "\n",
    "Can be used either with training data or test data"
   ]
  },
  {
   "cell_type": "code",
   "execution_count": 6,
   "metadata": {
    "id": "YNTJM1bkIRcp"
   },
   "outputs": [],
   "source": [
    "import matplotlib.pyplot as plt\n",
    "%matplotlib inline\n",
    "from sklearn.metrics import ConfusionMatrixDisplay, classification_report\n",
    "\n",
    "#Function definition\n",
    "def model_report(clf, test_data=False, conf_matrix=True, class_report=True):\n",
    "  X, y = X_train, y_train\n",
    "  if test_data:\n",
    "    X, y = X_test, y_test\n",
    "  y_preds = clf.predict(X)\n",
    "\n",
    "  #Plotting Confusion Matrix \n",
    "  if conf_matrix:\n",
    "    fig = plt.figure(figsize=(8,12))\n",
    "    ConfusionMatrixDisplay.from_predictions(y, y_preds, display_labels=label_enc.keys(), cmap='BuPu', \n",
    "                                            ax=plt.gca(), colorbar=False, xticks_rotation=90)\n",
    "\n",
    "    plt.tick_params(axis='both', pad=4, labelsize='large')\n",
    "    plt.title('Confusion Matrix for {}'.format(str(type(clf)).split('.')[-1][:-2]), \n",
    "              fontsize=15)\n",
    "    plt.ylabel('True Label', fontsize=15)\n",
    "    plt.xlabel('Predicted Label', fontsize=15)\n",
    "    plt.show()\n",
    "    print('\\n\\n')\n",
    "  \n",
    "  #Classification report\n",
    "  if class_report:\n",
    "    if test_data: print('Test Data Report:\\n')\n",
    "    else: print('Train Data Report:\\n') \n",
    "    print(classification_report(y, y_preds, digits=3))\n",
    "    print('='*60)\n",
    "  \n",
    "  return fig"
   ]
  },
  {
   "cell_type": "markdown",
   "metadata": {
    "id": "UmX4O_fVEFZe"
   },
   "source": [
    "## 1. XGBoost - Extreme Gradient Boosting"
   ]
  },
  {
   "cell_type": "code",
   "execution_count": 7,
   "metadata": {
    "colab": {
     "base_uri": "https://localhost:8080/"
    },
    "id": "OgFlSiE_b8he",
    "outputId": "55ceddb5-2e3d-476c-cf77-04b35b043d25"
   },
   "outputs": [
    {
     "name": "stdout",
     "output_type": "stream",
     "text": [
      "1.6.0\n"
     ]
    }
   ],
   "source": [
    "import xgboost as xgb\n",
    "print(xgb.__version__)"
   ]
  },
  {
   "cell_type": "markdown",
   "metadata": {
    "id": "lnz6lKVr2clJ"
   },
   "source": [
    "### Parameter Grid for Hyper-Parameter Tuning"
   ]
  },
  {
   "cell_type": "code",
   "execution_count": 8,
   "metadata": {
    "id": "lY-sBRQW-xvc"
   },
   "outputs": [],
   "source": [
    "#Initiation\n",
    "xgb_model = xgb.XGBClassifier(n_estimators=100, random_state=42)\n",
    "\n",
    "#Parameter Grid\n",
    "from scipy.stats import uniform, randint\n",
    "xgb_params = {\n",
    "    \"colsample_bytree\": uniform(0.7, 0.3),\n",
    "    \"gamma\": uniform(0, 0.5),\n",
    "    \"learning_rate\": uniform(0.03, 0.3),\n",
    "    \"max_depth\": randint(2, 6),\n",
    "    \"n_estimators\": randint(100, 150),\n",
    "    \"subsample\": uniform(0.6, 0.4)\n",
    "  }"
   ]
  },
  {
   "cell_type": "markdown",
   "metadata": {
    "id": "Sm5fY0062nVt"
   },
   "source": [
    "### Hyper-Parameter Tuning\n",
    "\n",
    "I am Utilizing Random Search for tuning the models since a random search can potentialy reach the best parameters faster then simple Grid Search"
   ]
  },
  {
   "cell_type": "code",
   "execution_count": 9,
   "metadata": {
    "colab": {
     "base_uri": "https://localhost:8080/"
    },
    "id": "kjit_6wHBr52",
    "outputId": "0db2b0c9-1b12-4cf8-8780-9e4ac441143d"
   },
   "outputs": [
    {
     "name": "stdout",
     "output_type": "stream",
     "text": [
      "Fitting 3 folds for each of 30 candidates, totalling 90 fits\n"
     ]
    },
    {
     "data": {
      "text/plain": [
       "RandomizedSearchCV(cv=3,\n",
       "                   estimator=XGBClassifier(base_score=None, booster=None,\n",
       "                                           callbacks=None,\n",
       "                                           colsample_bylevel=None,\n",
       "                                           colsample_bynode=None,\n",
       "                                           colsample_bytree=None,\n",
       "                                           early_stopping_rounds=None,\n",
       "                                           enable_categorical=False,\n",
       "                                           eval_metric=None, gamma=None,\n",
       "                                           gpu_id=None, grow_policy=None,\n",
       "                                           importance_type=None,\n",
       "                                           interaction_constraints=None,\n",
       "                                           learning_rate=None, max_bin=None,...\n",
       "                                        'learning_rate': <scipy.stats._distn_infrastructure.rv_frozen object at 0x7fd5869ebb50>,\n",
       "                                        'max_depth': <scipy.stats._distn_infrastructure.rv_frozen object at 0x7fd5869ebc90>,\n",
       "                                        'n_estimators': <scipy.stats._distn_infrastructure.rv_frozen object at 0x7fd596651f10>,\n",
       "                                        'subsample': <scipy.stats._distn_infrastructure.rv_frozen object at 0x7fd5869f7290>},\n",
       "                   random_state=42, return_train_score=True,\n",
       "                   scoring='f1_weighted', verbose=2)"
      ]
     },
     "execution_count": 9,
     "metadata": {},
     "output_type": "execute_result"
    }
   ],
   "source": [
    "#Hyper parameter Tuning\n",
    "from sklearn.model_selection import RandomizedSearchCV\n",
    "\n",
    "#Radomized Search\n",
    "xgb_search = RandomizedSearchCV(estimator=xgb_model, param_distributions=xgb_params,\n",
    "                                n_iter=30, cv = 3, verbose=2, n_jobs = -1, random_state=42, \n",
    "                                scoring='f1_weighted', return_train_score=True)\n",
    "\n",
    "xgb_search.fit(X_train, y_train)"
   ]
  },
  {
   "cell_type": "code",
   "execution_count": 10,
   "metadata": {
    "colab": {
     "base_uri": "https://localhost:8080/"
    },
    "id": "nA5-wKHtMbld",
    "outputId": "4c0ff97c-63fa-4d56-e712-cc934d6324b9"
   },
   "outputs": [
    {
     "name": "stdout",
     "output_type": "stream",
     "text": [
      "XGBClassifier(base_score=0.5, booster='gbtree', callbacks=None,\n",
      "              colsample_bylevel=1, colsample_bynode=1,\n",
      "              colsample_bytree=0.7467983561008608, early_stopping_rounds=None,\n",
      "              enable_categorical=False, eval_metric=None,\n",
      "              gamma=0.02904180608409973, gpu_id=-1, grow_policy='depthwise',\n",
      "              importance_type=None, interaction_constraints='',\n",
      "              learning_rate=0.28985284373248055, max_bin=256,\n",
      "              max_cat_to_onehot=4, max_delta_step=0, max_depth=5, max_leaves=0,\n",
      "              min_child_weight=1, missing=nan, monotone_constraints='()',\n",
      "              n_estimators=139, n_jobs=0, num_parallel_tree=1,\n",
      "              objective='multi:softprob', predictor='auto', random_state=42,\n",
      "              reg_alpha=0, ...)\n"
     ]
    }
   ],
   "source": [
    "#Displaying the best parameter found by the random search\n",
    "print(xgb_search.best_estimator_)"
   ]
  },
  {
   "cell_type": "markdown",
   "metadata": {
    "id": "i5dmXB_u3Szj"
   },
   "source": [
    "### XGBoost Model Report"
   ]
  },
  {
   "cell_type": "code",
   "execution_count": 11,
   "metadata": {
    "colab": {
     "base_uri": "https://localhost:8080/",
     "height": 997
    },
    "id": "YYswO_DWdoD6",
    "outputId": "96e3b5d6-2ffd-4b76-fcee-0b0f2b19cec1"
   },
   "outputs": [
    {
     "data": {
      "image/png": "[encoded data removed]",
      "text/plain": [
       "<Figure size 576x864 with 1 Axes>"
      ]
     },
     "metadata": {
      "needs_background": "light"
     },
     "output_type": "display_data"
    },
    {
     "name": "stdout",
     "output_type": "stream",
     "text": [
      "\n",
      "\n",
      "\n",
      "Train Data Report:\n",
      "\n",
      "              precision    recall  f1-score   support\n",
      "\n",
      "           0      1.000     1.000     1.000       663\n",
      "           1      1.000     1.000     1.000       706\n",
      "           2      1.000     1.000     1.000       708\n",
      "           3      1.000     1.000     1.000       717\n",
      "           4      1.000     1.000     1.000       705\n",
      "           5      1.000     1.000     1.000       715\n",
      "           6      0.996     0.994     0.995       671\n",
      "           7      1.000     1.000     1.000       696\n",
      "           8      1.000     1.000     1.000       691\n",
      "           9      0.994     0.996     0.995       714\n",
      "\n",
      "    accuracy                          0.999      6986\n",
      "   macro avg      0.999     0.999     0.999      6986\n",
      "weighted avg      0.999     0.999     0.999      6986\n",
      "\n",
      "============================================================\n"
     ]
    }
   ],
   "source": [
    "#On Training Data\n",
    "fig = model_report(xgb_search.best_estimator_, test_data=False)"
   ]
  },
  {
   "cell_type": "code",
   "execution_count": 12,
   "metadata": {
    "colab": {
     "base_uri": "https://localhost:8080/",
     "height": 997
    },
    "id": "0W5UYlY5dzg9",
    "outputId": "d261f343-3fdc-46f5-af40-d777a0f963a6"
   },
   "outputs": [
    {
     "data": {
      "image/png": "[encoded data removed]",
      "text/plain": [
       "<Figure size 576x864 with 1 Axes>"
      ]
     },
     "metadata": {
      "needs_background": "light"
     },
     "output_type": "display_data"
    },
    {
     "name": "stdout",
     "output_type": "stream",
     "text": [
      "\n",
      "\n",
      "\n",
      "Test Data Report:\n",
      "\n",
      "              precision    recall  f1-score   support\n",
      "\n",
      "           0      0.937     0.887     0.912       337\n",
      "           1      0.922     0.969     0.945       292\n",
      "           2      0.840     0.872     0.856       289\n",
      "           3      0.891     0.897     0.894       282\n",
      "           4      0.938     0.922     0.929       293\n",
      "           5      0.856     0.898     0.877       285\n",
      "           6      0.960     0.951     0.956       329\n",
      "           7      0.933     0.914     0.924       304\n",
      "           8      0.934     0.903     0.918       299\n",
      "           9      0.860     0.860     0.860       285\n",
      "\n",
      "    accuracy                          0.908      2995\n",
      "   macro avg      0.907     0.907     0.907      2995\n",
      "weighted avg      0.909     0.908     0.908      2995\n",
      "\n",
      "============================================================\n"
     ]
    }
   ],
   "source": [
    "#On Test Data\n",
    "fig = model_report(xgb_search.best_estimator_, test_data=True)\n",
    "\n",
    "#Saving\n",
    "path = os.path.join('Visualization', 'XGB_Confusion_Matrix.png')\n",
    "fig.savefig(path, bbox_inches='tight', dpi=250);"
   ]
  },
  {
   "cell_type": "markdown",
   "metadata": {
    "id": "PQ3KUKFI3raY"
   },
   "source": [
    "#### **Remarks**\n",
    "\n",
    "The XGB Model achieved an accuracy of 99% and 90.8% on Training and Testing Data Respectively.\n",
    "\n",
    "The Model is overfitting a little but that can be easily rectified at the later stage of ensembling."
   ]
  },
  {
   "cell_type": "code",
   "execution_count": 13,
   "metadata": {
    "id": "ktpmsP24d3Zk"
   },
   "outputs": [],
   "source": [
    "#Saving Model as json(Better saving option)\n",
    "path = os.path.join('Saved_Models', 'XGBClassifier.json')\n",
    "xgb_search.best_estimator_.save_model(path)\n",
    "\n",
    "#Saving as native python code(Only predication capable for deployment)\n",
    "import m2cgen as m2c\n",
    "xgbc_native = m2c.export_to_python(xgb_search.best_estimator_)\n",
    "\n",
    "path = os.path.join('Saved_Models', 'XGBCNative.py')\n",
    "with open(path, 'w') as f:\n",
    "  f.write(xgbc_native)"
   ]
  },
  {
   "cell_type": "markdown",
   "metadata": {
    "id": "vbDEJGnl4KeW"
   },
   "source": [
    "## 2. CatBoost"
   ]
  },
  {
   "cell_type": "code",
   "execution_count": 14,
   "metadata": {
    "id": "L3f7J1mOgf2X"
   },
   "outputs": [],
   "source": [
    "#Initiation\n",
    "import catboost as cb\n",
    "cbc = cb.CatBoostClassifier(random_state=42, verbose=False, eval_metric='TotalF1', loss_function='MultiClass')"
   ]
  },
  {
   "cell_type": "markdown",
   "metadata": {
    "id": "Try4ZOac4TmN"
   },
   "source": [
    "### Parameter Grid for Hyper-Parameter Tuning"
   ]
  },
  {
   "cell_type": "code",
   "execution_count": 15,
   "metadata": {
    "id": "14T1Jcf-hRxN"
   },
   "outputs": [],
   "source": [
    "grid = {'learning_rate': uniform(0.03, 0.3),\n",
    "        'depth': randint(2, 6),\n",
    "        'l2_leaf_reg': uniform(1,9)}"
   ]
  },
  {
   "cell_type": "markdown",
   "metadata": {
    "id": "xjgRJOeW4jZ5"
   },
   "source": [
    "### Hyper-Parameter Tuning"
   ]
  },
  {
   "cell_type": "code",
   "execution_count": 16,
   "metadata": {
    "colab": {
     "base_uri": "https://localhost:8080/"
    },
    "id": "XxqN8SG44mN5",
    "outputId": "f94e83a7-3262-4b26-f95b-dadc06dcb03f"
   },
   "outputs": [
    {
     "name": "stdout",
     "output_type": "stream",
     "text": [
      "\n",
      "bestTest = 0.8510920358\n",
      "bestIteration = 927\n",
      "\n",
      "\n",
      "bestTest = 0.8097016229\n",
      "bestIteration = 985\n",
      "\n",
      "\n",
      "bestTest = 0.8578085917\n",
      "bestIteration = 958\n",
      "\n",
      "\n",
      "bestTest = 0.8527539231\n",
      "bestIteration = 769\n",
      "\n",
      "\n",
      "bestTest = 0.8155994271\n",
      "bestIteration = 994\n",
      "\n",
      "\n",
      "bestTest = 0.8214479802\n",
      "bestIteration = 995\n",
      "\n",
      "\n",
      "bestTest = 0.8542542074\n",
      "bestIteration = 989\n",
      "\n",
      "\n",
      "bestTest = 0.7884677247\n",
      "bestIteration = 998\n",
      "\n",
      "\n",
      "bestTest = 0.837469691\n",
      "bestIteration = 990\n",
      "\n",
      "\n",
      "bestTest = 0.762874933\n",
      "bestIteration = 997\n",
      "\n",
      "\n",
      "bestTest = 0.8640539166\n",
      "bestIteration = 998\n",
      "\n",
      "\n",
      "bestTest = 0.8684989576\n",
      "bestIteration = 887\n",
      "\n",
      "\n",
      "bestTest = 0.8525788914\n",
      "bestIteration = 998\n",
      "\n",
      "\n",
      "bestTest = 0.8700215882\n",
      "bestIteration = 917\n",
      "\n",
      "\n",
      "bestTest = 0.7797647321\n",
      "bestIteration = 968\n",
      "\n",
      "\n",
      "bestTest = 0.8286173773\n",
      "bestIteration = 983\n",
      "\n",
      "\n",
      "bestTest = 0.8690232315\n",
      "bestIteration = 983\n",
      "\n",
      "\n",
      "bestTest = 0.7820296501\n",
      "bestIteration = 981\n",
      "\n",
      "\n",
      "bestTest = 0.7771327665\n",
      "bestIteration = 985\n",
      "\n",
      "\n",
      "bestTest = 0.8146310679\n",
      "bestIteration = 982\n",
      "\n",
      "\n",
      "bestTest = 0.8223884462\n",
      "bestIteration = 967\n",
      "\n",
      "\n",
      "bestTest = 0.8206614947\n",
      "bestIteration = 994\n",
      "\n",
      "\n",
      "bestTest = 0.8463291717\n",
      "bestIteration = 930\n",
      "\n",
      "\n",
      "bestTest = 0.8799046465\n",
      "bestIteration = 972\n",
      "\n",
      "\n",
      "bestTest = 0.8742357792\n",
      "bestIteration = 939\n",
      "\n",
      "\n",
      "bestTest = 0.8612597658\n",
      "bestIteration = 952\n",
      "\n",
      "\n",
      "bestTest = 0.834036582\n",
      "bestIteration = 973\n",
      "\n",
      "\n",
      "bestTest = 0.8358182144\n",
      "bestIteration = 989\n",
      "\n",
      "\n",
      "bestTest = 0.8600740984\n",
      "bestIteration = 857\n",
      "\n",
      "\n",
      "bestTest = 0.8694386111\n",
      "bestIteration = 952\n",
      "\n",
      "Training on fold [0/3]\n",
      "\n",
      "bestTest = 0.8761519958\n",
      "bestIteration = 962\n",
      "\n",
      "Training on fold [1/3]\n",
      "\n",
      "bestTest = 0.889384999\n",
      "bestIteration = 941\n",
      "\n",
      "Training on fold [2/3]\n",
      "\n",
      "bestTest = 0.8626586175\n",
      "bestIteration = 951\n",
      "\n"
     ]
    }
   ],
   "source": [
    "cbc_search = cbc.randomized_search(param_distributions=grid, X = X_train, y= y_train, cv=3,\n",
    "                  n_iter=30, partition_random_seed=42, calc_cv_statistics=True, verbose=False)  "
   ]
  },
  {
   "cell_type": "markdown",
   "metadata": {
    "id": "qR5tDQe84oP1"
   },
   "source": [
    "### CatBoost Model Report"
   ]
  },
  {
   "cell_type": "code",
   "execution_count": 17,
   "metadata": {
    "colab": {
     "base_uri": "https://localhost:8080/",
     "height": 997
    },
    "id": "1BlSnafiqUbz",
    "outputId": "dd1e72d8-2a9d-4ce5-fe64-6bfeb9dfe8d0"
   },
   "outputs": [
    {
     "data": {
      "image/png": "[encoded data removed]",
      "text/plain": [
       "<Figure size 576x864 with 1 Axes>"
      ]
     },
     "metadata": {
      "needs_background": "light"
     },
     "output_type": "display_data"
    },
    {
     "name": "stdout",
     "output_type": "stream",
     "text": [
      "\n",
      "\n",
      "\n",
      "Train Data Report:\n",
      "\n",
      "              precision    recall  f1-score   support\n",
      "\n",
      "           0      1.000     1.000     1.000       663\n",
      "           1      1.000     1.000     1.000       706\n",
      "           2      1.000     1.000     1.000       708\n",
      "           3      1.000     1.000     1.000       717\n",
      "           4      1.000     1.000     1.000       705\n",
      "           5      1.000     1.000     1.000       715\n",
      "           6      0.996     0.994     0.995       671\n",
      "           7      1.000     1.000     1.000       696\n",
      "           8      1.000     1.000     1.000       691\n",
      "           9      0.994     0.996     0.995       714\n",
      "\n",
      "    accuracy                          0.999      6986\n",
      "   macro avg      0.999     0.999     0.999      6986\n",
      "weighted avg      0.999     0.999     0.999      6986\n",
      "\n",
      "============================================================\n"
     ]
    }
   ],
   "source": [
    "#On Training Data\n",
    "fig = model_report(cbc, test_data=False)"
   ]
  },
  {
   "cell_type": "code",
   "execution_count": 18,
   "metadata": {
    "colab": {
     "base_uri": "https://localhost:8080/",
     "height": 997
    },
    "id": "QSBFQ_lBqfWQ",
    "outputId": "1bc57076-7d03-4892-a914-49e551833435"
   },
   "outputs": [
    {
     "data": {
      "image/png": "[encoded data removed]",
      "text/plain": [
       "<Figure size 576x864 with 1 Axes>"
      ]
     },
     "metadata": {
      "needs_background": "light"
     },
     "output_type": "display_data"
    },
    {
     "name": "stdout",
     "output_type": "stream",
     "text": [
      "\n",
      "\n",
      "\n",
      "Test Data Report:\n",
      "\n",
      "              precision    recall  f1-score   support\n",
      "\n",
      "           0      0.941     0.896     0.918       337\n",
      "           1      0.923     0.949     0.936       292\n",
      "           2      0.868     0.889     0.879       289\n",
      "           3      0.874     0.908     0.890       282\n",
      "           4      0.937     0.918     0.928       293\n",
      "           5      0.842     0.898     0.869       285\n",
      "           6      0.963     0.960     0.962       329\n",
      "           7      0.938     0.895     0.916       304\n",
      "           8      0.908     0.893     0.901       299\n",
      "           9      0.872     0.863     0.868       285\n",
      "\n",
      "    accuracy                          0.908      2995\n",
      "   macro avg      0.907     0.907     0.907      2995\n",
      "weighted avg      0.908     0.908     0.908      2995\n",
      "\n",
      "============================================================\n"
     ]
    }
   ],
   "source": [
    "#On Testing Data\n",
    "fig = model_report(cbc, test_data=True)\n",
    "\n",
    "#Saving\n",
    "path = os.path.join('Visualization', 'CB_Confusion_Matrix.png')\n",
    "fig.savefig(path, bbox_inches='tight', dpi=250)"
   ]
  },
  {
   "cell_type": "markdown",
   "metadata": {
    "id": "zMDgo9x_40Fr"
   },
   "source": [
    "#### **Remarks**\n",
    "\n",
    "The CatBoost Model achieved an accuracy of 99% and 90.8% on Training and Testing Data Respectively.\n",
    "\n",
    "Catboost is also mildly overfitting, but gave better results than xgboost for this dataset."
   ]
  },
  {
   "cell_type": "code",
   "execution_count": 19,
   "metadata": {
    "id": "MOu0pCQyrjVL"
   },
   "outputs": [],
   "source": [
    "#Saving catboost model\n",
    "path = os.path.join('Saved_Models', 'CBClassifier.json')\n",
    "cbc.save_model(path)"
   ]
  },
  {
   "cell_type": "markdown",
   "metadata": {
    "id": "9Loa0wq-s_Oc"
   },
   "source": [
    "##3.  Random Forest Classifier"
   ]
  },
  {
   "cell_type": "code",
   "execution_count": 20,
   "metadata": {
    "id": "hmH7kDqYtAUR"
   },
   "outputs": [],
   "source": [
    "#Initiation\n",
    "from sklearn.ensemble import RandomForestClassifier\n",
    "rfc = RandomForestClassifier(random_state=42, n_jobs=-1)"
   ]
  },
  {
   "cell_type": "markdown",
   "metadata": {
    "id": "qG8siukx5HBP"
   },
   "source": [
    "### Parameter Grid"
   ]
  },
  {
   "cell_type": "code",
   "execution_count": 21,
   "metadata": {
    "id": "vQz-2mrT5KXO"
   },
   "outputs": [],
   "source": [
    "grid = {'n_estimators' : randint(50,120),\n",
    "        'max_depth' : randint(5,20),\n",
    "        'min_samples_split' : randint(5,20),\n",
    "        'min_samples_leaf' : randint(1,8)}"
   ]
  },
  {
   "cell_type": "markdown",
   "metadata": {
    "id": "R6tfC3605La7"
   },
   "source": [
    "### Hyper-Parameter Tuning"
   ]
  },
  {
   "cell_type": "code",
   "execution_count": 22,
   "metadata": {
    "colab": {
     "base_uri": "https://localhost:8080/"
    },
    "id": "QawHw-lGvBx3",
    "outputId": "02fd87a3-1ce0-4bd9-df63-1abd892f8205"
   },
   "outputs": [
    {
     "name": "stdout",
     "output_type": "stream",
     "text": [
      "Fitting 5 folds for each of 30 candidates, totalling 150 fits\n"
     ]
    },
    {
     "data": {
      "text/plain": [
       "RandomizedSearchCV(cv=5,\n",
       "                   estimator=RandomForestClassifier(n_jobs=-1, random_state=42),\n",
       "                   n_iter=30, n_jobs=-1,\n",
       "                   param_distributions={'max_depth': <scipy.stats._distn_infrastructure.rv_frozen object at 0x7fd57773abd0>,\n",
       "                                        'min_samples_leaf': <scipy.stats._distn_infrastructure.rv_frozen object at 0x7fd577741d90>,\n",
       "                                        'min_samples_split': <scipy.stats._distn_infrastructure.rv_frozen object at 0x7fd577741990>,\n",
       "                                        'n_estimators': <scipy.stats._distn_infrastructure.rv_frozen object at 0x7fd577741890>},\n",
       "                   random_state=42, return_train_score=True,\n",
       "                   scoring='f1_weighted', verbose=2)"
      ]
     },
     "execution_count": 22,
     "metadata": {},
     "output_type": "execute_result"
    }
   ],
   "source": [
    "rfc_search =  RandomizedSearchCV(estimator=rfc, param_distributions=grid,\n",
    "                                n_iter=30, cv = 5, verbose=2, n_jobs = -1, random_state=42, \n",
    "                                scoring='f1_weighted', return_train_score=True)\n",
    "rfc_search.fit(X_train, y_train)"
   ]
  },
  {
   "cell_type": "code",
   "execution_count": 23,
   "metadata": {
    "colab": {
     "base_uri": "https://localhost:8080/"
    },
    "id": "FVvQCBTc38GD",
    "outputId": "b6f4e524-75c6-4c69-ff9c-e8ce60b108f8"
   },
   "outputs": [
    {
     "data": {
      "text/plain": [
       "RandomForestClassifier(max_depth=16, min_samples_leaf=2, min_samples_split=10,\n",
       "                       n_estimators=98, n_jobs=-1, random_state=42)"
      ]
     },
     "execution_count": 23,
     "metadata": {},
     "output_type": "execute_result"
    }
   ],
   "source": [
    "#Displaying the best parameter found by the radnom search\n",
    "rfc_search.best_estimator_"
   ]
  },
  {
   "cell_type": "markdown",
   "metadata": {
    "id": "zsmjuzjp5Xuz"
   },
   "source": [
    "### Random Forest Model Report"
   ]
  },
  {
   "cell_type": "code",
   "execution_count": 24,
   "metadata": {
    "colab": {
     "base_uri": "https://localhost:8080/",
     "height": 997
    },
    "id": "JyHNDLl62xKT",
    "outputId": "ceb96b57-3d58-4f28-d711-d8ca223383b1"
   },
   "outputs": [
    {
     "data": {
      "image/png": "[encoded data removed]",
      "text/plain": [
       "<Figure size 576x864 with 1 Axes>"
      ]
     },
     "metadata": {
      "needs_background": "light"
     },
     "output_type": "display_data"
    },
    {
     "name": "stdout",
     "output_type": "stream",
     "text": [
      "\n",
      "\n",
      "\n",
      "Train Data Report:\n",
      "\n",
      "              precision    recall  f1-score   support\n",
      "\n",
      "           0      1.000     0.988     0.994       663\n",
      "           1      0.978     0.999     0.988       706\n",
      "           2      0.994     0.999     0.996       708\n",
      "           3      0.996     0.994     0.995       717\n",
      "           4      0.999     0.990     0.994       705\n",
      "           5      0.990     0.994     0.992       715\n",
      "           6      0.988     0.990     0.989       671\n",
      "           7      0.993     0.993     0.993       696\n",
      "           8      0.997     0.997     0.997       691\n",
      "           9      0.993     0.983     0.988       714\n",
      "\n",
      "    accuracy                          0.993      6986\n",
      "   macro avg      0.993     0.993     0.993      6986\n",
      "weighted avg      0.993     0.993     0.993      6986\n",
      "\n",
      "============================================================\n"
     ]
    }
   ],
   "source": [
    "#On Training Data\n",
    "fig = model_report(rfc_search.best_estimator_, test_data=False)"
   ]
  },
  {
   "cell_type": "code",
   "execution_count": 25,
   "metadata": {
    "colab": {
     "base_uri": "https://localhost:8080/",
     "height": 997
    },
    "id": "qBD2ZOLP22TX",
    "outputId": "3001c53f-b596-4e6d-cc73-bea29fc61339"
   },
   "outputs": [
    {
     "data": {
      "image/png": "[encoded data removed]",
      "text/plain": [
       "<Figure size 576x864 with 1 Axes>"
      ]
     },
     "metadata": {
      "needs_background": "light"
     },
     "output_type": "display_data"
    },
    {
     "name": "stdout",
     "output_type": "stream",
     "text": [
      "\n",
      "\n",
      "\n",
      "Test Data Report:\n",
      "\n",
      "              precision    recall  f1-score   support\n",
      "\n",
      "           0      0.928     0.846     0.885       337\n",
      "           1      0.896     0.969     0.931       292\n",
      "           2      0.732     0.830     0.778       289\n",
      "           3      0.783     0.833     0.808       282\n",
      "           4      0.898     0.812     0.853       293\n",
      "           5      0.812     0.867     0.839       285\n",
      "           6      0.907     0.951     0.929       329\n",
      "           7      0.906     0.829     0.866       304\n",
      "           8      0.821     0.826     0.823       299\n",
      "           9      0.821     0.723     0.769       285\n",
      "\n",
      "    accuracy                          0.850      2995\n",
      "   macro avg      0.850     0.849     0.848      2995\n",
      "weighted avg      0.853     0.850     0.850      2995\n",
      "\n",
      "============================================================\n"
     ]
    }
   ],
   "source": [
    "#On Testing Data\n",
    "fig = model_report(rfc_search.best_estimator_, test_data=True)\n",
    "\n",
    "#Saving\n",
    "path = os.path.join('Visualization', 'RF_Confusion_Matrix.png')\n",
    "fig.savefig(path, bbox_inches='tight', dpi=250)"
   ]
  },
  {
   "cell_type": "markdown",
   "metadata": {
    "id": "aMoCl8eK5jer"
   },
   "source": [
    "#### **Remarks**\n",
    "\n",
    "The Random Forest Model achieved an accuracy of 99% and 85% on Training and Testing Data Respectively.\n",
    "\n",
    "By far the weakest learner but could potentially imporve the ensembled model characteristic"
   ]
  },
  {
   "cell_type": "code",
   "execution_count": 26,
   "metadata": {
    "id": "SLTg44ps28cC"
   },
   "outputs": [],
   "source": [
    "#Saving Random Forest Model\n",
    "import joblib\n",
    "path = os.path.join('Saved_Models', 'RFClassifier.sav')\n",
    "with open(path, 'wb') as f:\n",
    "  joblib.dump(rfc_search.best_estimator_, f,compress=3)\n",
    "\n",
    "#Saving as native python code(Only prediction capable for deployment)\n",
    "import m2cgen as m2c\n",
    "rfc_native = m2c.export_to_python(rfc_search.best_estimator_)\n",
    "\n",
    "path = os.path.join('Saved_Models', 'RFCNative.py')\n",
    "with open(path, 'w') as f:\n",
    "  f.write(rfc_native)"
   ]
  }
 ],
 "metadata": {
  "colab": {
   "collapsed_sections": [],
   "name": "Model Building.ipynb",
   "provenance": []
  },
  "kernelspec": {
   "display_name": "Python 3 (ipykernel)",
   "language": "python",
   "name": "python3"
  },
  "language_info": {
   "codemirror_mode": {
    "name": "ipython",
    "version": 3
   },
   "file_extension": ".py",
   "mimetype": "text/x-python",
   "name": "python",
   "nbconvert_exporter": "python",
   "pygments_lexer": "ipython3",
   "version": "3.9.6"
  }
 },
 "nbformat": 4,
 "nbformat_minor": 1
}
